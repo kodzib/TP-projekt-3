{
 "cells": [
  {
   "cell_type": "markdown",
   "id": "763c7965-9f13-4ff4-b5cf-dcd5f229f3ff",
   "metadata": {
    "scrolled": true
   },
   "source": [
    "# TECHNIKI PROGRAMOWANIA - projekt 3\n",
    "### Konrad Browalski 197911\n",
    "### [UZUPEŁNIJ_TUTAJ_WIT]\n",
    "\n",
    "Wykorzystane biblioteki:\n",
    "- matplotplusplus (C++)\n",
    "- soundfile (python)\n",
    "- imageio (python)\n",
    "- numpy (python)\n",
    "- os (python)"
   ]
  },
  {
   "cell_type": "markdown",
   "id": "42b25331-9115-4efa-ac92-6621978d025f",
   "metadata": {},
   "source": [
    "## Prosta funkcja biblioteki na sprawdzenie czy działa"
   ]
  },
  {
   "cell_type": "code",
   "execution_count": 1,
   "id": "369b8338-5bce-4d4b-9b64-4ad2a96ae894",
   "metadata": {
    "editable": true,
    "slideshow": {
     "slide_type": ""
    },
    "tags": []
   },
   "outputs": [],
   "source": [
    "from vsstudio.Debug.Pybind11module import * #nasza napisana biblioteka\n",
    "import soundfile as sf\n",
    "import numpy as np\n",
    "import imageio.v3 as iio\n",
    "import os\n",
    "\n",
    "fixed_path = os.path.abspath(\"\").removesuffix('oddanie_projektu.ipynb').replace(\"\\\\\", \"/\")\n",
    "audio_data, audio_samplerate = sf.read(fixed_path + '/test_audio_file_1.wav')\n",
    "\n",
    "plot_audio(signal_generator('c', 100, audio_samplerate, 1600), fixed_path + \"/graph.png\")"
   ]
  },
  {
   "cell_type": "markdown",
   "id": "fa02e4ca-3d8b-4b55-9ae9-1aead4aa47e4",
   "metadata": {},
   "source": [
    "![Graf sinusoidy](graph.png)"
   ]
  },
  {
   "cell_type": "code",
   "execution_count": null,
   "id": "6769708b-c9b2-4b23-a71c-307fdc5a9dc8",
   "metadata": {},
   "outputs": [],
   "source": []
  }
 ],
 "metadata": {
  "kernelspec": {
   "display_name": "Python 3 (ipykernel)",
   "language": "python",
   "name": "python3"
  },
  "language_info": {
   "codemirror_mode": {
    "name": "ipython",
    "version": 3
   },
   "file_extension": ".py",
   "mimetype": "text/x-python",
   "name": "python",
   "nbconvert_exporter": "python",
   "pygments_lexer": "ipython3",
   "version": "3.12.3"
  }
 },
 "nbformat": 4,
 "nbformat_minor": 5
}
